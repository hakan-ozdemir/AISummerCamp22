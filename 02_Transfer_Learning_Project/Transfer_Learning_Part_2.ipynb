{
  "cells": [
    {
      "cell_type": "markdown",
      "source": [
        "# Transfer Learning Project - Part 2"
      ],
      "metadata": {
        "id": "h3UdSNfoNWPP"
      },
      "id": "h3UdSNfoNWPP"
    },
    {
      "cell_type": "code",
      "execution_count": 1,
      "id": "843feffa",
      "metadata": {
        "id": "843feffa"
      },
      "outputs": [],
      "source": [
        "import pandas as pd\n",
        "import numpy as np\n",
        "from numpy import load\n",
        "import os\n",
        "from os import listdir\n",
        "from os.path import exists\n",
        "from matplotlib.image import imread \n",
        "import matplotlib.pyplot as plt\n",
        "import keras\n",
        "from keras import layers, optimizers\n",
        "from tensorflow.keras.optimizers import SGD\n",
        "from keras.layers import Dense, Dropout, GlobalMaxPooling2D, Conv2D, Input\n",
        "from keras.models import Model\n",
        "from keras.applications.vgg16 import VGG16\n",
        "from keras.callbacks import ModelCheckpoint, EarlyStopping\n",
        "from sklearn.model_selection import train_test_split\n",
        "import tensorflow as tf\n",
        "import warnings\n",
        "warnings.filterwarnings(\"ignore\")"
      ]
    },
    {
      "cell_type": "markdown",
      "id": "06aa8732",
      "metadata": {
        "id": "06aa8732"
      },
      "source": [
        "## Model Construction"
      ]
    },
    {
      "cell_type": "code",
      "execution_count": null,
      "id": "4a12e65b",
      "metadata": {
        "id": "4a12e65b"
      },
      "outputs": [],
      "source": [
        "vgg_model = VGG16(weights = 'imagenet', include_top = True)"
      ]
    },
    {
      "cell_type": "markdown",
      "id": "20c56eba",
      "metadata": {
        "id": "20c56eba"
      },
      "source": [
        "Checking the VGG16 model"
      ]
    },
    {
      "cell_type": "code",
      "execution_count": null,
      "id": "b3ae9192",
      "metadata": {
        "id": "b3ae9192",
        "outputId": "cf6e27bc-7042-4662-a30c-741229fdc7e3"
      },
      "outputs": [
        {
          "name": "stdout",
          "output_type": "stream",
          "text": [
            "Model: \"vgg16\"\n",
            "_________________________________________________________________\n",
            " Layer (type)                Output Shape              Param #   \n",
            "=================================================================\n",
            " input_1 (InputLayer)        [(None, 224, 224, 3)]     0         \n",
            "                                                                 \n",
            " block1_conv1 (Conv2D)       (None, 224, 224, 64)      1792      \n",
            "                                                                 \n",
            " block1_conv2 (Conv2D)       (None, 224, 224, 64)      36928     \n",
            "                                                                 \n",
            " block1_pool (MaxPooling2D)  (None, 112, 112, 64)      0         \n",
            "                                                                 \n",
            " block2_conv1 (Conv2D)       (None, 112, 112, 128)     73856     \n",
            "                                                                 \n",
            " block2_conv2 (Conv2D)       (None, 112, 112, 128)     147584    \n",
            "                                                                 \n",
            " block2_pool (MaxPooling2D)  (None, 56, 56, 128)       0         \n",
            "                                                                 \n",
            " block3_conv1 (Conv2D)       (None, 56, 56, 256)       295168    \n",
            "                                                                 \n",
            " block3_conv2 (Conv2D)       (None, 56, 56, 256)       590080    \n",
            "                                                                 \n",
            " block3_conv3 (Conv2D)       (None, 56, 56, 256)       590080    \n",
            "                                                                 \n",
            " block3_pool (MaxPooling2D)  (None, 28, 28, 256)       0         \n",
            "                                                                 \n",
            " block4_conv1 (Conv2D)       (None, 28, 28, 512)       1180160   \n",
            "                                                                 \n",
            " block4_conv2 (Conv2D)       (None, 28, 28, 512)       2359808   \n",
            "                                                                 \n",
            " block4_conv3 (Conv2D)       (None, 28, 28, 512)       2359808   \n",
            "                                                                 \n",
            " block4_pool (MaxPooling2D)  (None, 14, 14, 512)       0         \n",
            "                                                                 \n",
            " block5_conv1 (Conv2D)       (None, 14, 14, 512)       2359808   \n",
            "                                                                 \n",
            " block5_conv2 (Conv2D)       (None, 14, 14, 512)       2359808   \n",
            "                                                                 \n",
            " block5_conv3 (Conv2D)       (None, 14, 14, 512)       2359808   \n",
            "                                                                 \n",
            " block5_pool (MaxPooling2D)  (None, 7, 7, 512)         0         \n",
            "                                                                 \n",
            " flatten (Flatten)           (None, 25088)             0         \n",
            "                                                                 \n",
            " fc1 (Dense)                 (None, 4096)              102764544 \n",
            "                                                                 \n",
            " fc2 (Dense)                 (None, 4096)              16781312  \n",
            "                                                                 \n",
            " predictions (Dense)         (None, 1000)              4097000   \n",
            "                                                                 \n",
            "=================================================================\n",
            "Total params: 138,357,544\n",
            "Trainable params: 138,357,544\n",
            "Non-trainable params: 0\n",
            "_________________________________________________________________\n"
          ]
        }
      ],
      "source": [
        "vgg_model.summary()"
      ]
    },
    {
      "cell_type": "markdown",
      "id": "bef8a979",
      "metadata": {
        "id": "bef8a979"
      },
      "source": [
        "Making the layers untrainable"
      ]
    },
    {
      "cell_type": "code",
      "execution_count": null,
      "id": "4ba26a7b",
      "metadata": {
        "id": "4ba26a7b",
        "outputId": "ce1f52f6-b9ac-4f5b-f3a8-1f31c694efde"
      },
      "outputs": [
        {
          "name": "stdout",
          "output_type": "stream",
          "text": [
            "<keras.engine.input_layer.InputLayer object at 0x0000019EFDE53280>\n",
            "<keras.layers.convolutional.Conv2D object at 0x0000019EFDE77DC0>\n",
            "<keras.layers.convolutional.Conv2D object at 0x0000019EFDECF400>\n",
            "<keras.layers.pooling.MaxPooling2D object at 0x0000019EFDF9D430>\n",
            "<keras.layers.convolutional.Conv2D object at 0x0000019EFDF90CA0>\n",
            "<keras.layers.convolutional.Conv2D object at 0x0000019EFDFB9910>\n",
            "<keras.layers.pooling.MaxPooling2D object at 0x0000019EFDFC0E20>\n",
            "<keras.layers.convolutional.Conv2D object at 0x0000019EFDFC0D30>\n",
            "<keras.layers.convolutional.Conv2D object at 0x0000019EFDFC3F10>\n",
            "<keras.layers.convolutional.Conv2D object at 0x0000019EFDFD1190>\n",
            "<keras.layers.pooling.MaxPooling2D object at 0x0000019EFDFDC340>\n",
            "<keras.layers.convolutional.Conv2D object at 0x0000019EFDFDCAC0>\n",
            "<keras.layers.convolutional.Conv2D object at 0x0000019EFDFC58E0>\n",
            "<keras.layers.convolutional.Conv2D object at 0x0000019EFDFAADC0>\n",
            "<keras.layers.pooling.MaxPooling2D object at 0x0000019EFDECF760>\n",
            "<keras.layers.convolutional.Conv2D object at 0x0000019EFDF90880>\n",
            "<keras.layers.convolutional.Conv2D object at 0x0000019EFDFE8F10>\n",
            "<keras.layers.convolutional.Conv2D object at 0x0000019EFDFEFDC0>\n",
            "<keras.layers.pooling.MaxPooling2D object at 0x0000019E86006AF0>\n"
          ]
        }
      ],
      "source": [
        "for layers in (vgg_model.layers)[:19]:\n",
        "    print(layers)\n",
        "    layers.trainable = False"
      ]
    },
    {
      "cell_type": "code",
      "execution_count": null,
      "id": "89776f1c",
      "metadata": {
        "id": "89776f1c"
      },
      "outputs": [],
      "source": [
        "X = vgg_model.layers[-2].output #fc2 's output"
      ]
    },
    {
      "cell_type": "code",
      "execution_count": null,
      "id": "a8c42353",
      "metadata": {
        "id": "a8c42353"
      },
      "outputs": [],
      "source": [
        "predictions = Dense(2, activation = 'softmax')(X)"
      ]
    },
    {
      "cell_type": "code",
      "execution_count": null,
      "id": "1f7f87d7",
      "metadata": {
        "id": "1f7f87d7"
      },
      "outputs": [],
      "source": [
        "model_final = Model(inputs = vgg_model.input, outputs = predictions)"
      ]
    },
    {
      "cell_type": "code",
      "execution_count": null,
      "id": "a0715045",
      "metadata": {
        "id": "a0715045",
        "outputId": "dc26739a-fa1a-436a-ba94-c067954405b0"
      },
      "outputs": [
        {
          "name": "stderr",
          "output_type": "stream",
          "text": [
            "C:\\Users\\bahao\\anaconda3\\lib\\site-packages\\keras\\optimizer_v2\\gradient_descent.py:102: UserWarning: The `lr` argument is deprecated, use `learning_rate` instead.\n",
            "  super(SGD, self).__init__(name, **kwargs)\n"
          ]
        }
      ],
      "source": [
        "model_final.compile(loss = 'categorical_crossentropy', \n",
        "                    optimizer = SGD(lr=0.0001, momentum=0.9), metrics=['accuracy'])"
      ]
    },
    {
      "cell_type": "code",
      "execution_count": null,
      "id": "bf7944d5",
      "metadata": {
        "id": "bf7944d5",
        "outputId": "a3bbd9dc-4e04-4e96-e8c7-04a73b7461c0"
      },
      "outputs": [
        {
          "name": "stdout",
          "output_type": "stream",
          "text": [
            "Model: \"model\"\n",
            "_________________________________________________________________\n",
            " Layer (type)                Output Shape              Param #   \n",
            "=================================================================\n",
            " input_1 (InputLayer)        [(None, 224, 224, 3)]     0         \n",
            "                                                                 \n",
            " block1_conv1 (Conv2D)       (None, 224, 224, 64)      1792      \n",
            "                                                                 \n",
            " block1_conv2 (Conv2D)       (None, 224, 224, 64)      36928     \n",
            "                                                                 \n",
            " block1_pool (MaxPooling2D)  (None, 112, 112, 64)      0         \n",
            "                                                                 \n",
            " block2_conv1 (Conv2D)       (None, 112, 112, 128)     73856     \n",
            "                                                                 \n",
            " block2_conv2 (Conv2D)       (None, 112, 112, 128)     147584    \n",
            "                                                                 \n",
            " block2_pool (MaxPooling2D)  (None, 56, 56, 128)       0         \n",
            "                                                                 \n",
            " block3_conv1 (Conv2D)       (None, 56, 56, 256)       295168    \n",
            "                                                                 \n",
            " block3_conv2 (Conv2D)       (None, 56, 56, 256)       590080    \n",
            "                                                                 \n",
            " block3_conv3 (Conv2D)       (None, 56, 56, 256)       590080    \n",
            "                                                                 \n",
            " block3_pool (MaxPooling2D)  (None, 28, 28, 256)       0         \n",
            "                                                                 \n",
            " block4_conv1 (Conv2D)       (None, 28, 28, 512)       1180160   \n",
            "                                                                 \n",
            " block4_conv2 (Conv2D)       (None, 28, 28, 512)       2359808   \n",
            "                                                                 \n",
            " block4_conv3 (Conv2D)       (None, 28, 28, 512)       2359808   \n",
            "                                                                 \n",
            " block4_pool (MaxPooling2D)  (None, 14, 14, 512)       0         \n",
            "                                                                 \n",
            " block5_conv1 (Conv2D)       (None, 14, 14, 512)       2359808   \n",
            "                                                                 \n",
            " block5_conv2 (Conv2D)       (None, 14, 14, 512)       2359808   \n",
            "                                                                 \n",
            " block5_conv3 (Conv2D)       (None, 14, 14, 512)       2359808   \n",
            "                                                                 \n",
            " block5_pool (MaxPooling2D)  (None, 7, 7, 512)         0         \n",
            "                                                                 \n",
            " flatten (Flatten)           (None, 25088)             0         \n",
            "                                                                 \n",
            " fc1 (Dense)                 (None, 4096)              102764544 \n",
            "                                                                 \n",
            " fc2 (Dense)                 (None, 4096)              16781312  \n",
            "                                                                 \n",
            " dense (Dense)               (None, 2)                 8194      \n",
            "                                                                 \n",
            "=================================================================\n",
            "Total params: 134,268,738\n",
            "Trainable params: 119,554,050\n",
            "Non-trainable params: 14,714,688\n",
            "_________________________________________________________________\n"
          ]
        }
      ],
      "source": [
        "model_final.summary()"
      ]
    },
    {
      "cell_type": "markdown",
      "source": [
        "##### Loading data from numpy files"
      ],
      "metadata": {
        "id": "TtcUr1LFPnKC"
      },
      "id": "TtcUr1LFPnKC"
    },
    {
      "cell_type": "code",
      "source": [
        "x_train = load('./data/x_train.npy', allow_pickle=True)\n",
        "y_train = load('./data/y_train.npy', allow_pickle=True)\n",
        "\n",
        "x_valid = load('./data/x_valid.npy', allow_pickle=True)\n",
        "y_valid = load('./data/y_valid.npy', allow_pickle=True)\n",
        "\n",
        "x_test = load('./data/x_test.npy', allow_pickle=True)\n",
        "y_test = load('./data/y_test.npy', allow_pickle=True)"
      ],
      "metadata": {
        "id": "K5O-wZ18OaCV"
      },
      "id": "K5O-wZ18OaCV",
      "execution_count": null,
      "outputs": []
    },
    {
      "cell_type": "markdown",
      "source": [
        "##### Converting data reading from numpy file to integer"
      ],
      "metadata": {
        "id": "m0UNvCHZPoT8"
      },
      "id": "m0UNvCHZPoT8"
    },
    {
      "cell_type": "code",
      "source": [
        "def str2int(labels):\n",
        "  labels_ = []\n",
        "  for label in labels:\n",
        "    if label == 'Cat':\n",
        "      labels_.append(0)\n",
        "    elif label == 'Dog':\n",
        "      labels_.append(1)\n",
        "  return np.asarray(labels_)\n",
        "\n",
        "y_train = str2int(y_train)\n",
        "y_valid = str2int(y_valid)\n",
        "y_test = str2int(y_test)"
      ],
      "metadata": {
        "id": "DCfzKKACPrlz"
      },
      "id": "DCfzKKACPrlz",
      "execution_count": null,
      "outputs": []
    },
    {
      "cell_type": "code",
      "execution_count": null,
      "id": "8f779e9d",
      "metadata": {
        "id": "8f779e9d",
        "outputId": "1e46d899-5c6d-4b4b-9d44-04662733d97e"
      },
      "outputs": [
        {
          "name": "stdout",
          "output_type": "stream",
          "text": [
            "WARNING:tensorflow:`period` argument is deprecated. Please use `save_freq` to specify the frequency in number of batches seen.\n"
          ]
        }
      ],
      "source": [
        "checkpoint = ModelCheckpoint(\"vgg16_1.h5\", monitor='val_accuracy', verbose=1, \n",
        "                             save_best_only=True, save_weights_only=False, \n",
        "                             mode='auto', period=1)\n",
        "early = EarlyStopping(monitor='val_accuracy', min_delta=0, patience=40, verbose=1, mode='auto')"
      ]
    },
    {
      "cell_type": "code",
      "execution_count": null,
      "id": "5edc5059",
      "metadata": {
        "id": "5edc5059",
        "outputId": "92364719-75b7-468f-ddac-e499b78562e1"
      },
      "outputs": [
        {
          "name": "stderr",
          "output_type": "stream",
          "text": [
            "C:\\Users\\bahao\\AppData\\Local\\Temp\\ipykernel_20372\\4277539412.py:5: UserWarning: `Model.fit_generator` is deprecated and will be removed in a future version. Please use `Model.fit`, which supports generators.\n",
            "  hist = model_final.fit_generator(generator= traindata, steps_per_epoch= 2,\n"
          ]
        },
        {
          "name": "stdout",
          "output_type": "stream",
          "text": [
            "Epoch 1/100\n",
            "2/2 [==============================] - ETA: 0s - loss: 0.0159 - accuracy: 1.0000\n",
            "Epoch 1: val_accuracy improved from -inf to 0.96875, saving model to vgg16_1.h5\n",
            "2/2 [==============================] - 13s 9s/step - loss: 0.0159 - accuracy: 1.0000 - val_loss: 0.0327 - val_accuracy: 0.9688\n",
            "Epoch 2/100\n",
            "2/2 [==============================] - ETA: 0s - loss: 0.0459 - accuracy: 0.9844\n",
            "Epoch 2: val_accuracy did not improve from 0.96875\n",
            "2/2 [==============================] - 10s 7s/step - loss: 0.0459 - accuracy: 0.9844 - val_loss: 0.1285 - val_accuracy: 0.9688\n",
            "Epoch 3/100\n",
            "2/2 [==============================] - ETA: 0s - loss: 0.0671 - accuracy: 0.9844\n",
            "Epoch 3: val_accuracy improved from 0.96875 to 1.00000, saving model to vgg16_1.h5\n",
            "2/2 [==============================] - 13s 9s/step - loss: 0.0671 - accuracy: 0.9844 - val_loss: 0.0071 - val_accuracy: 1.0000\n",
            "Epoch 4/100\n",
            "2/2 [==============================] - ETA: 0s - loss: 0.0120 - accuracy: 1.0000\n",
            "Epoch 4: val_accuracy did not improve from 1.00000\n",
            "2/2 [==============================] - 10s 7s/step - loss: 0.0120 - accuracy: 1.0000 - val_loss: 0.0823 - val_accuracy: 0.9688\n",
            "Epoch 5/100\n",
            "2/2 [==============================] - ETA: 0s - loss: 0.0296 - accuracy: 0.9844\n",
            "Epoch 5: val_accuracy did not improve from 1.00000\n",
            "2/2 [==============================] - 12s 8s/step - loss: 0.0296 - accuracy: 0.9844 - val_loss: 0.3530 - val_accuracy: 0.9375\n",
            "Epoch 6/100\n",
            "2/2 [==============================] - ETA: 0s - loss: 0.0099 - accuracy: 1.0000\n",
            "Epoch 6: val_accuracy did not improve from 1.00000\n",
            "2/2 [==============================] - 12s 8s/step - loss: 0.0099 - accuracy: 1.0000 - val_loss: 0.0030 - val_accuracy: 1.0000\n",
            "Epoch 7/100\n",
            "2/2 [==============================] - ETA: 0s - loss: 0.0424 - accuracy: 0.9688\n",
            "Epoch 7: val_accuracy did not improve from 1.00000\n",
            "2/2 [==============================] - 12s 8s/step - loss: 0.0424 - accuracy: 0.9688 - val_loss: 0.0131 - val_accuracy: 1.0000\n",
            "Epoch 8/100\n",
            "2/2 [==============================] - ETA: 0s - loss: 0.0330 - accuracy: 0.9844\n",
            "Epoch 8: val_accuracy did not improve from 1.00000\n",
            "2/2 [==============================] - 12s 8s/step - loss: 0.0330 - accuracy: 0.9844 - val_loss: 0.0450 - val_accuracy: 0.9688\n",
            "Epoch 9/100\n",
            "2/2 [==============================] - ETA: 0s - loss: 0.0116 - accuracy: 1.0000\n",
            "Epoch 9: val_accuracy did not improve from 1.00000\n",
            "2/2 [==============================] - 11s 7s/step - loss: 0.0116 - accuracy: 1.0000 - val_loss: 0.0734 - val_accuracy: 0.9688\n",
            "Epoch 10/100\n",
            "2/2 [==============================] - ETA: 0s - loss: 0.0218 - accuracy: 0.9844\n",
            "Epoch 10: val_accuracy did not improve from 1.00000\n",
            "2/2 [==============================] - 12s 7s/step - loss: 0.0218 - accuracy: 0.9844 - val_loss: 0.0050 - val_accuracy: 1.0000\n",
            "Epoch 11/100\n",
            "2/2 [==============================] - ETA: 0s - loss: 0.0206 - accuracy: 0.9844\n",
            "Epoch 11: val_accuracy did not improve from 1.00000\n",
            "2/2 [==============================] - 12s 8s/step - loss: 0.0206 - accuracy: 0.9844 - val_loss: 0.1065 - val_accuracy: 0.9688\n",
            "Epoch 12/100\n",
            "2/2 [==============================] - ETA: 0s - loss: 0.0649 - accuracy: 0.9844\n",
            "Epoch 12: val_accuracy did not improve from 1.00000\n",
            "2/2 [==============================] - 11s 7s/step - loss: 0.0649 - accuracy: 0.9844 - val_loss: 0.0279 - val_accuracy: 1.0000\n",
            "Epoch 13/100\n",
            "2/2 [==============================] - ETA: 0s - loss: 0.0104 - accuracy: 1.0000\n",
            "Epoch 13: val_accuracy did not improve from 1.00000\n",
            "2/2 [==============================] - 11s 7s/step - loss: 0.0104 - accuracy: 1.0000 - val_loss: 0.0024 - val_accuracy: 1.0000\n",
            "Epoch 14/100\n",
            "2/2 [==============================] - ETA: 0s - loss: 0.0424 - accuracy: 0.9844\n",
            "Epoch 14: val_accuracy did not improve from 1.00000\n",
            "2/2 [==============================] - 12s 8s/step - loss: 0.0424 - accuracy: 0.9844 - val_loss: 0.0152 - val_accuracy: 1.0000\n",
            "Epoch 15/100\n",
            "2/2 [==============================] - ETA: 0s - loss: 0.0281 - accuracy: 0.9844\n",
            "Epoch 15: val_accuracy did not improve from 1.00000\n",
            "2/2 [==============================] - 12s 8s/step - loss: 0.0281 - accuracy: 0.9844 - val_loss: 0.0051 - val_accuracy: 1.0000\n",
            "Epoch 16/100\n",
            "2/2 [==============================] - ETA: 0s - loss: 0.1521 - accuracy: 0.9375\n",
            "Epoch 16: val_accuracy did not improve from 1.00000\n",
            "2/2 [==============================] - 11s 7s/step - loss: 0.1521 - accuracy: 0.9375 - val_loss: 0.0810 - val_accuracy: 0.9688\n",
            "Epoch 17/100\n",
            "2/2 [==============================] - ETA: 0s - loss: 0.0095 - accuracy: 1.0000\n",
            "Epoch 17: val_accuracy did not improve from 1.00000\n",
            "2/2 [==============================] - 12s 7s/step - loss: 0.0095 - accuracy: 1.0000 - val_loss: 0.0071 - val_accuracy: 1.0000\n",
            "Epoch 18/100\n",
            "2/2 [==============================] - ETA: 0s - loss: 0.0160 - accuracy: 1.0000\n",
            "Epoch 18: val_accuracy did not improve from 1.00000\n",
            "2/2 [==============================] - 12s 8s/step - loss: 0.0160 - accuracy: 1.0000 - val_loss: 0.0168 - val_accuracy: 1.0000\n",
            "Epoch 19/100\n",
            "2/2 [==============================] - ETA: 0s - loss: 0.0879 - accuracy: 0.9688\n",
            "Epoch 19: val_accuracy did not improve from 1.00000\n",
            "2/2 [==============================] - 13s 9s/step - loss: 0.0879 - accuracy: 0.9688 - val_loss: 0.0470 - val_accuracy: 0.9688\n",
            "Epoch 20/100\n",
            "2/2 [==============================] - ETA: 0s - loss: 0.1446 - accuracy: 0.9531\n",
            "Epoch 20: val_accuracy did not improve from 1.00000\n",
            "2/2 [==============================] - 14s 9s/step - loss: 0.1446 - accuracy: 0.9531 - val_loss: 0.0098 - val_accuracy: 1.0000\n",
            "Epoch 21/100\n",
            "2/2 [==============================] - ETA: 0s - loss: 0.1091 - accuracy: 0.9688\n",
            "Epoch 21: val_accuracy did not improve from 1.00000\n",
            "2/2 [==============================] - 13s 8s/step - loss: 0.1091 - accuracy: 0.9688 - val_loss: 9.8856e-04 - val_accuracy: 1.0000\n",
            "Epoch 22/100\n",
            "2/2 [==============================] - ETA: 0s - loss: 0.0947 - accuracy: 0.9688\n",
            "Epoch 22: val_accuracy did not improve from 1.00000\n",
            "2/2 [==============================] - 14s 8s/step - loss: 0.0947 - accuracy: 0.9688 - val_loss: 0.0566 - val_accuracy: 0.9688\n",
            "Epoch 23/100\n",
            "2/2 [==============================] - ETA: 0s - loss: 0.0789 - accuracy: 0.9531\n",
            "Epoch 23: val_accuracy did not improve from 1.00000\n",
            "2/2 [==============================] - 13s 8s/step - loss: 0.0789 - accuracy: 0.9531 - val_loss: 6.5977e-04 - val_accuracy: 1.0000\n",
            "Epoch 24/100\n",
            "2/2 [==============================] - ETA: 0s - loss: 0.0119 - accuracy: 1.0000\n",
            "Epoch 24: val_accuracy did not improve from 1.00000\n",
            "2/2 [==============================] - 12s 8s/step - loss: 0.0119 - accuracy: 1.0000 - val_loss: 0.0071 - val_accuracy: 1.0000\n",
            "Epoch 25/100\n",
            "2/2 [==============================] - ETA: 0s - loss: 0.0743 - accuracy: 0.9844\n",
            "Epoch 25: val_accuracy did not improve from 1.00000\n",
            "2/2 [==============================] - 12s 8s/step - loss: 0.0743 - accuracy: 0.9844 - val_loss: 0.0399 - val_accuracy: 1.0000\n",
            "Epoch 26/100\n",
            "2/2 [==============================] - ETA: 0s - loss: 0.1138 - accuracy: 0.9688\n",
            "Epoch 26: val_accuracy did not improve from 1.00000\n",
            "2/2 [==============================] - 12s 8s/step - loss: 0.1138 - accuracy: 0.9688 - val_loss: 0.0047 - val_accuracy: 1.0000\n",
            "Epoch 27/100\n",
            "2/2 [==============================] - ETA: 0s - loss: 0.0751 - accuracy: 0.9531\n",
            "Epoch 27: val_accuracy did not improve from 1.00000\n",
            "2/2 [==============================] - 12s 8s/step - loss: 0.0751 - accuracy: 0.9531 - val_loss: 0.0521 - val_accuracy: 0.9688\n",
            "Epoch 28/100\n",
            "2/2 [==============================] - ETA: 0s - loss: 0.0969 - accuracy: 0.9688\n",
            "Epoch 28: val_accuracy did not improve from 1.00000\n",
            "2/2 [==============================] - 12s 8s/step - loss: 0.0969 - accuracy: 0.9688 - val_loss: 0.0023 - val_accuracy: 1.0000\n",
            "Epoch 29/100\n",
            "2/2 [==============================] - ETA: 0s - loss: 0.0589 - accuracy: 0.9844\n",
            "Epoch 29: val_accuracy did not improve from 1.00000\n",
            "2/2 [==============================] - 12s 8s/step - loss: 0.0589 - accuracy: 0.9844 - val_loss: 0.0646 - val_accuracy: 0.9688\n",
            "Epoch 30/100\n",
            "2/2 [==============================] - ETA: 0s - loss: 0.0110 - accuracy: 1.0000\n",
            "Epoch 30: val_accuracy did not improve from 1.00000\n",
            "2/2 [==============================] - 12s 8s/step - loss: 0.0110 - accuracy: 1.0000 - val_loss: 0.0027 - val_accuracy: 1.0000\n"
          ]
        },
        {
          "name": "stdout",
          "output_type": "stream",
          "text": [
            "Epoch 31/100\n",
            "2/2 [==============================] - ETA: 0s - loss: 0.0352 - accuracy: 0.9844\n",
            "Epoch 31: val_accuracy did not improve from 1.00000\n",
            "2/2 [==============================] - 12s 8s/step - loss: 0.0352 - accuracy: 0.9844 - val_loss: 0.0072 - val_accuracy: 1.0000\n",
            "Epoch 32/100\n",
            "2/2 [==============================] - ETA: 0s - loss: 0.0050 - accuracy: 1.0000\n",
            "Epoch 32: val_accuracy did not improve from 1.00000\n",
            "2/2 [==============================] - 12s 8s/step - loss: 0.0050 - accuracy: 1.0000 - val_loss: 0.0130 - val_accuracy: 1.0000\n",
            "Epoch 33/100\n",
            "2/2 [==============================] - ETA: 0s - loss: 0.1256 - accuracy: 0.9688\n",
            "Epoch 33: val_accuracy did not improve from 1.00000\n",
            "2/2 [==============================] - 12s 8s/step - loss: 0.1256 - accuracy: 0.9688 - val_loss: 0.0342 - val_accuracy: 1.0000\n",
            "Epoch 34/100\n",
            "2/2 [==============================] - ETA: 0s - loss: 0.0081 - accuracy: 1.0000\n",
            "Epoch 34: val_accuracy did not improve from 1.00000\n",
            "2/2 [==============================] - 12s 8s/step - loss: 0.0081 - accuracy: 1.0000 - val_loss: 0.0015 - val_accuracy: 1.0000\n",
            "Epoch 35/100\n",
            "2/2 [==============================] - ETA: 0s - loss: 0.0095 - accuracy: 1.0000\n",
            "Epoch 35: val_accuracy did not improve from 1.00000\n",
            "2/2 [==============================] - 12s 7s/step - loss: 0.0095 - accuracy: 1.0000 - val_loss: 0.0073 - val_accuracy: 1.0000\n",
            "Epoch 36/100\n",
            "2/2 [==============================] - ETA: 0s - loss: 0.0155 - accuracy: 1.0000\n",
            "Epoch 36: val_accuracy did not improve from 1.00000\n",
            "2/2 [==============================] - 12s 8s/step - loss: 0.0155 - accuracy: 1.0000 - val_loss: 0.0105 - val_accuracy: 1.0000\n",
            "Epoch 37/100\n",
            "2/2 [==============================] - ETA: 0s - loss: 0.0065 - accuracy: 1.0000\n",
            "Epoch 37: val_accuracy did not improve from 1.00000\n",
            "2/2 [==============================] - 12s 8s/step - loss: 0.0065 - accuracy: 1.0000 - val_loss: 0.1086 - val_accuracy: 0.9375\n",
            "Epoch 38/100\n",
            "2/2 [==============================] - ETA: 0s - loss: 0.0584 - accuracy: 0.9844\n",
            "Epoch 38: val_accuracy did not improve from 1.00000\n",
            "2/2 [==============================] - 12s 7s/step - loss: 0.0584 - accuracy: 0.9844 - val_loss: 0.0119 - val_accuracy: 1.0000\n",
            "Epoch 39/100\n",
            "2/2 [==============================] - ETA: 0s - loss: 0.0265 - accuracy: 0.9844\n",
            "Epoch 39: val_accuracy did not improve from 1.00000\n",
            "2/2 [==============================] - 12s 8s/step - loss: 0.0265 - accuracy: 0.9844 - val_loss: 0.0907 - val_accuracy: 0.9688\n",
            "Epoch 40/100\n",
            "2/2 [==============================] - ETA: 0s - loss: 0.0087 - accuracy: 1.0000\n",
            "Epoch 40: val_accuracy did not improve from 1.00000\n",
            "2/2 [==============================] - 12s 8s/step - loss: 0.0087 - accuracy: 1.0000 - val_loss: 0.0072 - val_accuracy: 1.0000\n",
            "Epoch 41/100\n",
            "2/2 [==============================] - ETA: 0s - loss: 0.0222 - accuracy: 1.0000\n",
            "Epoch 41: val_accuracy did not improve from 1.00000\n",
            "2/2 [==============================] - 12s 8s/step - loss: 0.0222 - accuracy: 1.0000 - val_loss: 0.0166 - val_accuracy: 1.0000\n",
            "Epoch 42/100\n",
            "2/2 [==============================] - ETA: 0s - loss: 0.0226 - accuracy: 0.9844\n",
            "Epoch 42: val_accuracy did not improve from 1.00000\n",
            "2/2 [==============================] - 12s 8s/step - loss: 0.0226 - accuracy: 0.9844 - val_loss: 0.1509 - val_accuracy: 0.9375\n",
            "Epoch 43/100\n",
            "2/2 [==============================] - ETA: 0s - loss: 0.0418 - accuracy: 0.9688\n",
            "Epoch 43: val_accuracy did not improve from 1.00000\n",
            "2/2 [==============================] - 12s 8s/step - loss: 0.0418 - accuracy: 0.9688 - val_loss: 0.0474 - val_accuracy: 1.0000\n",
            "Epoch 43: early stopping\n"
          ]
        }
      ],
      "source": [
        "path = \"weights/vgg16_1.h5\"\n",
        "if exists(path):\n",
        "    model_final.load_weights('weights/vgg16_1.h5')\n",
        "else:\n",
        "    hist = model.fit(x=x_train, y=y_train, epochs=100, validation_data=(x_valid, y_valid), callbacks=[checkpoint, early])"
      ]
    },
    {
      "cell_type": "code",
      "execution_count": null,
      "id": "e0c54f83",
      "metadata": {
        "id": "e0c54f83"
      },
      "outputs": [],
      "source": [
        "if not os.path.exists(\"weights\"):\n",
        "    os.mkdir(\"weights\")\n",
        "\n",
        "model_final.save_weights(\"weights/vgg16_1.h5\")"
      ]
    },
    {
      "cell_type": "markdown",
      "id": "60c0751b",
      "metadata": {
        "id": "60c0751b"
      },
      "source": [
        "Evaluation of the trained model"
      ]
    },
    {
      "cell_type": "code",
      "execution_count": null,
      "id": "f3f99520",
      "metadata": {
        "id": "f3f99520",
        "outputId": "02b5f607-bf07-4357-edee-b52dc01798c6"
      },
      "outputs": [
        {
          "data": {
            "image/png": "[encoded data removed]",
            "text/plain": [
              "<Figure size 1152x360 with 2 Axes>"
            ]
          },
          "metadata": {
            "needs_background": "light"
          },
          "output_type": "display_data"
        }
      ],
      "source": [
        "%matplotlib inline\n",
        "\n",
        "model_hist = pd.DataFrame(hist.history)\n",
        "model_hist['epoch'] = hist.epoch \n",
        "\n",
        "\n",
        "fig, (ax1, ax2) = plt.subplots(1, 2, figsize=(16,5))\n",
        "num_epochs = model_hist.shape[0]\n",
        "t = fig.suptitle('Evaluation', fontsize = 16)\n",
        "fig.subplots_adjust(top=0.9)\n",
        "ax1.set_ylim((0.6,1))\n",
        "ax2.set_ylim((0,0.5))\n",
        "\n",
        "ax1.plot(np.arange(0, num_epochs), model_hist[\"accuracy\"], \n",
        "        label=\"Train Accuracy\")\n",
        "ax1.plot(np.arange(0, num_epochs), model_hist[\"val_accuracy\"], \n",
        "        label=\"Validation Accuracy\")\n",
        "ax1.set_ylabel('Accuracy Value')\n",
        "ax1.set_xlabel('Epoch')\n",
        "ax1.set_title('Accuracy')\n",
        "l1 = ax1.legend()\n",
        "\n",
        "\n",
        "ax2.plot(np.arange(0, num_epochs), model_hist[\"loss\"], \n",
        "        label=\"Train Loss\")\n",
        "ax2.plot(np.arange(0, num_epochs), model_hist[\"val_loss\"], \n",
        "        label=\"Validation Loss\")\n",
        "ax2.set_ylabel('Loss Value')\n",
        "ax2.set_xlabel('Epoch')\n",
        "ax2.set_title('Loss')\n",
        "l1 = ax2.legend()"
      ]
    }
  ],
  "metadata": {
    "kernelspec": {
      "display_name": "Python 3 (ipykernel)",
      "language": "python",
      "name": "python3"
    },
    "language_info": {
      "codemirror_mode": {
        "name": "ipython",
        "version": 3
      },
      "file_extension": ".py",
      "mimetype": "text/x-python",
      "name": "python",
      "nbconvert_exporter": "python",
      "pygments_lexer": "ipython3",
      "version": "3.9.12"
    },
    "colab": {
      "name": "Transfer Learning Part 2.ipynb",
      "provenance": []
    }
  },
  "nbformat": 4,
  "nbformat_minor": 5
}